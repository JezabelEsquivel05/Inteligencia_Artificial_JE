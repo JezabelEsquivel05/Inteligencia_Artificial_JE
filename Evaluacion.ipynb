{
  "nbformat": 4,
  "nbformat_minor": 0,
  "metadata": {
    "colab": {
      "provenance": [],
      "authorship_tag": "ABX9TyNxBcBjHZZ+JdxH8Oe1nYC+",
      "include_colab_link": true
    },
    "kernelspec": {
      "name": "python3",
      "display_name": "Python 3"
    },
    "language_info": {
      "name": "python"
    }
  },
  "cells": [
    {
      "cell_type": "markdown",
      "metadata": {
        "id": "view-in-github",
        "colab_type": "text"
      },
      "source": [
        "<a href=\"https://colab.research.google.com/github/JezabelEsquivel05/Inteligencia_Artificial_JE/blob/main/Evaluacion.ipynb\" target=\"_parent\"><img src=\"https://colab.research.google.com/assets/colab-badge.svg\" alt=\"Open In Colab\"/></a>"
      ]
    },
    {
      "cell_type": "code",
      "execution_count": null,
      "metadata": {
        "colab": {
          "base_uri": "https://localhost:8080/",
          "height": 73
        },
        "id": "3yCFdFVG44No",
        "outputId": "e06441d2-646c-480d-e2e1-29b38c009720"
      },
      "outputs": [
        {
          "output_type": "display_data",
          "data": {
            "text/plain": [
              "<IPython.core.display.HTML object>"
            ],
            "text/html": [
              "\n",
              "     <input type=\"file\" id=\"files-c7755c11-f369-4d1f-8f66-f774dc8a6298\" name=\"files[]\" multiple disabled\n",
              "        style=\"border:none\" />\n",
              "     <output id=\"result-c7755c11-f369-4d1f-8f66-f774dc8a6298\">\n",
              "      Upload widget is only available when the cell has been executed in the\n",
              "      current browser session. Please rerun this cell to enable.\n",
              "      </output>\n",
              "      <script>// Copyright 2017 Google LLC\n",
              "//\n",
              "// Licensed under the Apache License, Version 2.0 (the \"License\");\n",
              "// you may not use this file except in compliance with the License.\n",
              "// You may obtain a copy of the License at\n",
              "//\n",
              "//      http://www.apache.org/licenses/LICENSE-2.0\n",
              "//\n",
              "// Unless required by applicable law or agreed to in writing, software\n",
              "// distributed under the License is distributed on an \"AS IS\" BASIS,\n",
              "// WITHOUT WARRANTIES OR CONDITIONS OF ANY KIND, either express or implied.\n",
              "// See the License for the specific language governing permissions and\n",
              "// limitations under the License.\n",
              "\n",
              "/**\n",
              " * @fileoverview Helpers for google.colab Python module.\n",
              " */\n",
              "(function(scope) {\n",
              "function span(text, styleAttributes = {}) {\n",
              "  const element = document.createElement('span');\n",
              "  element.textContent = text;\n",
              "  for (const key of Object.keys(styleAttributes)) {\n",
              "    element.style[key] = styleAttributes[key];\n",
              "  }\n",
              "  return element;\n",
              "}\n",
              "\n",
              "// Max number of bytes which will be uploaded at a time.\n",
              "const MAX_PAYLOAD_SIZE = 100 * 1024;\n",
              "\n",
              "function _uploadFiles(inputId, outputId) {\n",
              "  const steps = uploadFilesStep(inputId, outputId);\n",
              "  const outputElement = document.getElementById(outputId);\n",
              "  // Cache steps on the outputElement to make it available for the next call\n",
              "  // to uploadFilesContinue from Python.\n",
              "  outputElement.steps = steps;\n",
              "\n",
              "  return _uploadFilesContinue(outputId);\n",
              "}\n",
              "\n",
              "// This is roughly an async generator (not supported in the browser yet),\n",
              "// where there are multiple asynchronous steps and the Python side is going\n",
              "// to poll for completion of each step.\n",
              "// This uses a Promise to block the python side on completion of each step,\n",
              "// then passes the result of the previous step as the input to the next step.\n",
              "function _uploadFilesContinue(outputId) {\n",
              "  const outputElement = document.getElementById(outputId);\n",
              "  const steps = outputElement.steps;\n",
              "\n",
              "  const next = steps.next(outputElement.lastPromiseValue);\n",
              "  return Promise.resolve(next.value.promise).then((value) => {\n",
              "    // Cache the last promise value to make it available to the next\n",
              "    // step of the generator.\n",
              "    outputElement.lastPromiseValue = value;\n",
              "    return next.value.response;\n",
              "  });\n",
              "}\n",
              "\n",
              "/**\n",
              " * Generator function which is called between each async step of the upload\n",
              " * process.\n",
              " * @param {string} inputId Element ID of the input file picker element.\n",
              " * @param {string} outputId Element ID of the output display.\n",
              " * @return {!Iterable<!Object>} Iterable of next steps.\n",
              " */\n",
              "function* uploadFilesStep(inputId, outputId) {\n",
              "  const inputElement = document.getElementById(inputId);\n",
              "  inputElement.disabled = false;\n",
              "\n",
              "  const outputElement = document.getElementById(outputId);\n",
              "  outputElement.innerHTML = '';\n",
              "\n",
              "  const pickedPromise = new Promise((resolve) => {\n",
              "    inputElement.addEventListener('change', (e) => {\n",
              "      resolve(e.target.files);\n",
              "    });\n",
              "  });\n",
              "\n",
              "  const cancel = document.createElement('button');\n",
              "  inputElement.parentElement.appendChild(cancel);\n",
              "  cancel.textContent = 'Cancel upload';\n",
              "  const cancelPromise = new Promise((resolve) => {\n",
              "    cancel.onclick = () => {\n",
              "      resolve(null);\n",
              "    };\n",
              "  });\n",
              "\n",
              "  // Wait for the user to pick the files.\n",
              "  const files = yield {\n",
              "    promise: Promise.race([pickedPromise, cancelPromise]),\n",
              "    response: {\n",
              "      action: 'starting',\n",
              "    }\n",
              "  };\n",
              "\n",
              "  cancel.remove();\n",
              "\n",
              "  // Disable the input element since further picks are not allowed.\n",
              "  inputElement.disabled = true;\n",
              "\n",
              "  if (!files) {\n",
              "    return {\n",
              "      response: {\n",
              "        action: 'complete',\n",
              "      }\n",
              "    };\n",
              "  }\n",
              "\n",
              "  for (const file of files) {\n",
              "    const li = document.createElement('li');\n",
              "    li.append(span(file.name, {fontWeight: 'bold'}));\n",
              "    li.append(span(\n",
              "        `(${file.type || 'n/a'}) - ${file.size} bytes, ` +\n",
              "        `last modified: ${\n",
              "            file.lastModifiedDate ? file.lastModifiedDate.toLocaleDateString() :\n",
              "                                    'n/a'} - `));\n",
              "    const percent = span('0% done');\n",
              "    li.appendChild(percent);\n",
              "\n",
              "    outputElement.appendChild(li);\n",
              "\n",
              "    const fileDataPromise = new Promise((resolve) => {\n",
              "      const reader = new FileReader();\n",
              "      reader.onload = (e) => {\n",
              "        resolve(e.target.result);\n",
              "      };\n",
              "      reader.readAsArrayBuffer(file);\n",
              "    });\n",
              "    // Wait for the data to be ready.\n",
              "    let fileData = yield {\n",
              "      promise: fileDataPromise,\n",
              "      response: {\n",
              "        action: 'continue',\n",
              "      }\n",
              "    };\n",
              "\n",
              "    // Use a chunked sending to avoid message size limits. See b/62115660.\n",
              "    let position = 0;\n",
              "    do {\n",
              "      const length = Math.min(fileData.byteLength - position, MAX_PAYLOAD_SIZE);\n",
              "      const chunk = new Uint8Array(fileData, position, length);\n",
              "      position += length;\n",
              "\n",
              "      const base64 = btoa(String.fromCharCode.apply(null, chunk));\n",
              "      yield {\n",
              "        response: {\n",
              "          action: 'append',\n",
              "          file: file.name,\n",
              "          data: base64,\n",
              "        },\n",
              "      };\n",
              "\n",
              "      let percentDone = fileData.byteLength === 0 ?\n",
              "          100 :\n",
              "          Math.round((position / fileData.byteLength) * 100);\n",
              "      percent.textContent = `${percentDone}% done`;\n",
              "\n",
              "    } while (position < fileData.byteLength);\n",
              "  }\n",
              "\n",
              "  // All done.\n",
              "  yield {\n",
              "    response: {\n",
              "      action: 'complete',\n",
              "    }\n",
              "  };\n",
              "}\n",
              "\n",
              "scope.google = scope.google || {};\n",
              "scope.google.colab = scope.google.colab || {};\n",
              "scope.google.colab._files = {\n",
              "  _uploadFiles,\n",
              "  _uploadFilesContinue,\n",
              "};\n",
              "})(self);\n",
              "</script> "
            ]
          },
          "metadata": {}
        },
        {
          "output_type": "stream",
          "name": "stdout",
          "text": [
            "Saving archive.zip to archive.zip\n"
          ]
        }
      ],
      "source": [
        "from google.colab import files\n",
        "uploaded = files.upload()\n"
      ]
    },
    {
      "cell_type": "code",
      "source": [
        "import zipfile\n",
        "\n",
        "# Cambia 'bone_fracture_dataset.zip' con el nombre exacto del archivo ZIP que subiste\n",
        "with zipfile.ZipFile('archive.zip', 'r') as zip_ref:\n",
        "    zip_ref.extractall('/content/bone_fracture_dataset/')\n"
      ],
      "metadata": {
        "id": "5tVT8uQY6HpJ"
      },
      "execution_count": null,
      "outputs": []
    },
    {
      "cell_type": "code",
      "source": [
        "import os\n",
        "import cv2\n",
        "import numpy as np\n",
        "\n",
        "# Ruta donde se extrajo el dataset\n",
        "dataset_path = '/content/bone_fracture_dataset/'\n",
        "\n",
        "# Inicializar listas para almacenar imágenes y etiquetas\n",
        "imagenes = []\n",
        "etiquetas = []\n",
        "\n",
        "# Recorrer todas las carpetas y cargar las imágenes\n",
        "for subdir, dirs, files in os.walk(dataset_path):\n",
        "    for file in files:\n",
        "        if file.endswith(\".jpg\") or file.endswith(\".png\"):  # Filtrar solo las imágenes\n",
        "            ruta_imagen = os.path.join(subdir, file)\n",
        "\n",
        "            # Cargar imagen con OpenCV\n",
        "            imagen = cv2.imread(ruta_imagen)\n",
        "            imagen = cv2.cvtColor(imagen, cv2.COLOR_BGR2GRAY)  # Convertir a escala de grises\n",
        "            imagen = cv2.resize(imagen, (128, 128))  # Redimensionar a 128x128 píxeles\n",
        "            imagenes.append(imagen)\n",
        "\n",
        "            # Etiqueta: 1 para fractura, 0 para no fractura\n",
        "            if 'fracture' in subdir.lower():\n",
        "                etiquetas.append(1)  # Fractura\n",
        "            else:\n",
        "                etiquetas.append(0)  # Sin fractura\n",
        "\n",
        "# Convertir las listas en arrays de NumPy\n",
        "imagenes = np.array(imagenes)\n",
        "etiquetas = np.array(etiquetas)\n",
        "\n",
        "# Normalizar las imágenes (convertir a valores entre 0 y 1)\n",
        "imagenes = imagenes.astype('float32') / 255.0\n",
        "imagenes = imagenes.reshape(imagenes.shape[0], 128, 128, 1)  # Convertir a forma (N, 128, 128, 1) para TensorFlow\n"
      ],
      "metadata": {
        "id": "zzkSh8Dm7918"
      },
      "execution_count": null,
      "outputs": []
    },
    {
      "cell_type": "code",
      "source": [
        "from sklearn.model_selection import train_test_split\n",
        "\n",
        "# Dividir los datos en entrenamiento y prueba (80% para entrenamiento, 20% para prueba)\n",
        "X_train, X_test, y_train, y_test = train_test_split(imagenes, etiquetas, test_size=0.2, random_state=42)\n"
      ],
      "metadata": {
        "id": "qHzy4ej-8GV1"
      },
      "execution_count": null,
      "outputs": []
    },
    {
      "cell_type": "code",
      "source": [
        "import tensorflow as tf\n",
        "from tensorflow.keras import layers, models\n",
        "\n",
        "# Crear el modelo CNN\n",
        "modelo = models.Sequential([\n",
        "    layers.Conv2D(32, (3, 3), activation='relu', input_shape=(128, 128, 1)),\n",
        "    layers.MaxPooling2D((2, 2)),\n",
        "    layers.Conv2D(64, (3, 3), activation='relu'),\n",
        "    layers.MaxPooling2D((2, 2)),\n",
        "    layers.Conv2D(64, (3, 3), activation='relu'),\n",
        "    layers.Flatten(),\n",
        "    layers.Dense(64, activation='relu'),\n",
        "    layers.Dense(1, activation='sigmoid')  # Salida binaria (fractura o no fractura)\n",
        "])\n",
        "\n",
        "# Compilar el modelo\n",
        "modelo.compile(optimizer='adam',\n",
        "               loss='binary_crossentropy',\n",
        "               metrics=['accuracy'])\n",
        "\n",
        "# Resumen del modelo\n",
        "modelo.summary()\n"
      ],
      "metadata": {
        "colab": {
          "base_uri": "https://localhost:8080/",
          "height": 463
        },
        "id": "ggwK5TYu8P39",
        "outputId": "e66bae0d-adea-4d15-88f7-385f8939f76d"
      },
      "execution_count": null,
      "outputs": [
        {
          "output_type": "stream",
          "name": "stderr",
          "text": [
            "/usr/local/lib/python3.10/dist-packages/keras/src/layers/convolutional/base_conv.py:107: UserWarning: Do not pass an `input_shape`/`input_dim` argument to a layer. When using Sequential models, prefer using an `Input(shape)` object as the first layer in the model instead.\n",
            "  super().__init__(activity_regularizer=activity_regularizer, **kwargs)\n"
          ]
        },
        {
          "output_type": "display_data",
          "data": {
            "text/plain": [
              "\u001b[1mModel: \"sequential\"\u001b[0m\n"
            ],
            "text/html": [
              "<pre style=\"white-space:pre;overflow-x:auto;line-height:normal;font-family:Menlo,'DejaVu Sans Mono',consolas,'Courier New',monospace\"><span style=\"font-weight: bold\">Model: \"sequential\"</span>\n",
              "</pre>\n"
            ]
          },
          "metadata": {}
        },
        {
          "output_type": "display_data",
          "data": {
            "text/plain": [
              "┏━━━━━━━━━━━━━━━━━━━━━━━━━━━━━━━━━━━━━━┳━━━━━━━━━━━━━━━━━━━━━━━━━━━━━┳━━━━━━━━━━━━━━━━━┓\n",
              "┃\u001b[1m \u001b[0m\u001b[1mLayer (type)                        \u001b[0m\u001b[1m \u001b[0m┃\u001b[1m \u001b[0m\u001b[1mOutput Shape               \u001b[0m\u001b[1m \u001b[0m┃\u001b[1m \u001b[0m\u001b[1m        Param #\u001b[0m\u001b[1m \u001b[0m┃\n",
              "┡━━━━━━━━━━━━━━━━━━━━━━━━━━━━━━━━━━━━━━╇━━━━━━━━━━━━━━━━━━━━━━━━━━━━━╇━━━━━━━━━━━━━━━━━┩\n",
              "│ conv2d (\u001b[38;5;33mConv2D\u001b[0m)                      │ (\u001b[38;5;45mNone\u001b[0m, \u001b[38;5;34m126\u001b[0m, \u001b[38;5;34m126\u001b[0m, \u001b[38;5;34m32\u001b[0m)        │             \u001b[38;5;34m320\u001b[0m │\n",
              "├──────────────────────────────────────┼─────────────────────────────┼─────────────────┤\n",
              "│ max_pooling2d (\u001b[38;5;33mMaxPooling2D\u001b[0m)         │ (\u001b[38;5;45mNone\u001b[0m, \u001b[38;5;34m63\u001b[0m, \u001b[38;5;34m63\u001b[0m, \u001b[38;5;34m32\u001b[0m)          │               \u001b[38;5;34m0\u001b[0m │\n",
              "├──────────────────────────────────────┼─────────────────────────────┼─────────────────┤\n",
              "│ conv2d_1 (\u001b[38;5;33mConv2D\u001b[0m)                    │ (\u001b[38;5;45mNone\u001b[0m, \u001b[38;5;34m61\u001b[0m, \u001b[38;5;34m61\u001b[0m, \u001b[38;5;34m64\u001b[0m)          │          \u001b[38;5;34m18,496\u001b[0m │\n",
              "├──────────────────────────────────────┼─────────────────────────────┼─────────────────┤\n",
              "│ max_pooling2d_1 (\u001b[38;5;33mMaxPooling2D\u001b[0m)       │ (\u001b[38;5;45mNone\u001b[0m, \u001b[38;5;34m30\u001b[0m, \u001b[38;5;34m30\u001b[0m, \u001b[38;5;34m64\u001b[0m)          │               \u001b[38;5;34m0\u001b[0m │\n",
              "├──────────────────────────────────────┼─────────────────────────────┼─────────────────┤\n",
              "│ conv2d_2 (\u001b[38;5;33mConv2D\u001b[0m)                    │ (\u001b[38;5;45mNone\u001b[0m, \u001b[38;5;34m28\u001b[0m, \u001b[38;5;34m28\u001b[0m, \u001b[38;5;34m64\u001b[0m)          │          \u001b[38;5;34m36,928\u001b[0m │\n",
              "├──────────────────────────────────────┼─────────────────────────────┼─────────────────┤\n",
              "│ flatten (\u001b[38;5;33mFlatten\u001b[0m)                    │ (\u001b[38;5;45mNone\u001b[0m, \u001b[38;5;34m50176\u001b[0m)               │               \u001b[38;5;34m0\u001b[0m │\n",
              "├──────────────────────────────────────┼─────────────────────────────┼─────────────────┤\n",
              "│ dense (\u001b[38;5;33mDense\u001b[0m)                        │ (\u001b[38;5;45mNone\u001b[0m, \u001b[38;5;34m64\u001b[0m)                  │       \u001b[38;5;34m3,211,328\u001b[0m │\n",
              "├──────────────────────────────────────┼─────────────────────────────┼─────────────────┤\n",
              "│ dense_1 (\u001b[38;5;33mDense\u001b[0m)                      │ (\u001b[38;5;45mNone\u001b[0m, \u001b[38;5;34m1\u001b[0m)                   │              \u001b[38;5;34m65\u001b[0m │\n",
              "└──────────────────────────────────────┴─────────────────────────────┴─────────────────┘\n"
            ],
            "text/html": [
              "<pre style=\"white-space:pre;overflow-x:auto;line-height:normal;font-family:Menlo,'DejaVu Sans Mono',consolas,'Courier New',monospace\">┏━━━━━━━━━━━━━━━━━━━━━━━━━━━━━━━━━━━━━━┳━━━━━━━━━━━━━━━━━━━━━━━━━━━━━┳━━━━━━━━━━━━━━━━━┓\n",
              "┃<span style=\"font-weight: bold\"> Layer (type)                         </span>┃<span style=\"font-weight: bold\"> Output Shape                </span>┃<span style=\"font-weight: bold\">         Param # </span>┃\n",
              "┡━━━━━━━━━━━━━━━━━━━━━━━━━━━━━━━━━━━━━━╇━━━━━━━━━━━━━━━━━━━━━━━━━━━━━╇━━━━━━━━━━━━━━━━━┩\n",
              "│ conv2d (<span style=\"color: #0087ff; text-decoration-color: #0087ff\">Conv2D</span>)                      │ (<span style=\"color: #00d7ff; text-decoration-color: #00d7ff\">None</span>, <span style=\"color: #00af00; text-decoration-color: #00af00\">126</span>, <span style=\"color: #00af00; text-decoration-color: #00af00\">126</span>, <span style=\"color: #00af00; text-decoration-color: #00af00\">32</span>)        │             <span style=\"color: #00af00; text-decoration-color: #00af00\">320</span> │\n",
              "├──────────────────────────────────────┼─────────────────────────────┼─────────────────┤\n",
              "│ max_pooling2d (<span style=\"color: #0087ff; text-decoration-color: #0087ff\">MaxPooling2D</span>)         │ (<span style=\"color: #00d7ff; text-decoration-color: #00d7ff\">None</span>, <span style=\"color: #00af00; text-decoration-color: #00af00\">63</span>, <span style=\"color: #00af00; text-decoration-color: #00af00\">63</span>, <span style=\"color: #00af00; text-decoration-color: #00af00\">32</span>)          │               <span style=\"color: #00af00; text-decoration-color: #00af00\">0</span> │\n",
              "├──────────────────────────────────────┼─────────────────────────────┼─────────────────┤\n",
              "│ conv2d_1 (<span style=\"color: #0087ff; text-decoration-color: #0087ff\">Conv2D</span>)                    │ (<span style=\"color: #00d7ff; text-decoration-color: #00d7ff\">None</span>, <span style=\"color: #00af00; text-decoration-color: #00af00\">61</span>, <span style=\"color: #00af00; text-decoration-color: #00af00\">61</span>, <span style=\"color: #00af00; text-decoration-color: #00af00\">64</span>)          │          <span style=\"color: #00af00; text-decoration-color: #00af00\">18,496</span> │\n",
              "├──────────────────────────────────────┼─────────────────────────────┼─────────────────┤\n",
              "│ max_pooling2d_1 (<span style=\"color: #0087ff; text-decoration-color: #0087ff\">MaxPooling2D</span>)       │ (<span style=\"color: #00d7ff; text-decoration-color: #00d7ff\">None</span>, <span style=\"color: #00af00; text-decoration-color: #00af00\">30</span>, <span style=\"color: #00af00; text-decoration-color: #00af00\">30</span>, <span style=\"color: #00af00; text-decoration-color: #00af00\">64</span>)          │               <span style=\"color: #00af00; text-decoration-color: #00af00\">0</span> │\n",
              "├──────────────────────────────────────┼─────────────────────────────┼─────────────────┤\n",
              "│ conv2d_2 (<span style=\"color: #0087ff; text-decoration-color: #0087ff\">Conv2D</span>)                    │ (<span style=\"color: #00d7ff; text-decoration-color: #00d7ff\">None</span>, <span style=\"color: #00af00; text-decoration-color: #00af00\">28</span>, <span style=\"color: #00af00; text-decoration-color: #00af00\">28</span>, <span style=\"color: #00af00; text-decoration-color: #00af00\">64</span>)          │          <span style=\"color: #00af00; text-decoration-color: #00af00\">36,928</span> │\n",
              "├──────────────────────────────────────┼─────────────────────────────┼─────────────────┤\n",
              "│ flatten (<span style=\"color: #0087ff; text-decoration-color: #0087ff\">Flatten</span>)                    │ (<span style=\"color: #00d7ff; text-decoration-color: #00d7ff\">None</span>, <span style=\"color: #00af00; text-decoration-color: #00af00\">50176</span>)               │               <span style=\"color: #00af00; text-decoration-color: #00af00\">0</span> │\n",
              "├──────────────────────────────────────┼─────────────────────────────┼─────────────────┤\n",
              "│ dense (<span style=\"color: #0087ff; text-decoration-color: #0087ff\">Dense</span>)                        │ (<span style=\"color: #00d7ff; text-decoration-color: #00d7ff\">None</span>, <span style=\"color: #00af00; text-decoration-color: #00af00\">64</span>)                  │       <span style=\"color: #00af00; text-decoration-color: #00af00\">3,211,328</span> │\n",
              "├──────────────────────────────────────┼─────────────────────────────┼─────────────────┤\n",
              "│ dense_1 (<span style=\"color: #0087ff; text-decoration-color: #0087ff\">Dense</span>)                      │ (<span style=\"color: #00d7ff; text-decoration-color: #00d7ff\">None</span>, <span style=\"color: #00af00; text-decoration-color: #00af00\">1</span>)                   │              <span style=\"color: #00af00; text-decoration-color: #00af00\">65</span> │\n",
              "└──────────────────────────────────────┴─────────────────────────────┴─────────────────┘\n",
              "</pre>\n"
            ]
          },
          "metadata": {}
        },
        {
          "output_type": "display_data",
          "data": {
            "text/plain": [
              "\u001b[1m Total params: \u001b[0m\u001b[38;5;34m3,267,137\u001b[0m (12.46 MB)\n"
            ],
            "text/html": [
              "<pre style=\"white-space:pre;overflow-x:auto;line-height:normal;font-family:Menlo,'DejaVu Sans Mono',consolas,'Courier New',monospace\"><span style=\"font-weight: bold\"> Total params: </span><span style=\"color: #00af00; text-decoration-color: #00af00\">3,267,137</span> (12.46 MB)\n",
              "</pre>\n"
            ]
          },
          "metadata": {}
        },
        {
          "output_type": "display_data",
          "data": {
            "text/plain": [
              "\u001b[1m Trainable params: \u001b[0m\u001b[38;5;34m3,267,137\u001b[0m (12.46 MB)\n"
            ],
            "text/html": [
              "<pre style=\"white-space:pre;overflow-x:auto;line-height:normal;font-family:Menlo,'DejaVu Sans Mono',consolas,'Courier New',monospace\"><span style=\"font-weight: bold\"> Trainable params: </span><span style=\"color: #00af00; text-decoration-color: #00af00\">3,267,137</span> (12.46 MB)\n",
              "</pre>\n"
            ]
          },
          "metadata": {}
        },
        {
          "output_type": "display_data",
          "data": {
            "text/plain": [
              "\u001b[1m Non-trainable params: \u001b[0m\u001b[38;5;34m0\u001b[0m (0.00 B)\n"
            ],
            "text/html": [
              "<pre style=\"white-space:pre;overflow-x:auto;line-height:normal;font-family:Menlo,'DejaVu Sans Mono',consolas,'Courier New',monospace\"><span style=\"font-weight: bold\"> Non-trainable params: </span><span style=\"color: #00af00; text-decoration-color: #00af00\">0</span> (0.00 B)\n",
              "</pre>\n"
            ]
          },
          "metadata": {}
        }
      ]
    },
    {
      "cell_type": "code",
      "source": [
        "# Entrenar el modelo\n",
        "historial = modelo.fit(X_train, y_train, epochs=10, batch_size=32, validation_data=(X_test, y_test))\n"
      ],
      "metadata": {
        "colab": {
          "base_uri": "https://localhost:8080/"
        },
        "id": "KVTteLzO8Wne",
        "outputId": "db0fa41a-df11-415d-eb87-8408471292a2"
      },
      "execution_count": null,
      "outputs": [
        {
          "output_type": "stream",
          "name": "stdout",
          "text": [
            "Epoch 1/10\n",
            "\u001b[1m237/237\u001b[0m \u001b[32m━━━━━━━━━━━━━━━━━━━━\u001b[0m\u001b[37m\u001b[0m \u001b[1m226s\u001b[0m 947ms/step - accuracy: 0.9968 - loss: 0.0181 - val_accuracy: 1.0000 - val_loss: 0.0000e+00\n",
            "Epoch 2/10\n",
            "\u001b[1m237/237\u001b[0m \u001b[32m━━━━━━━━━━━━━━━━━━━━\u001b[0m\u001b[37m\u001b[0m \u001b[1m263s\u001b[0m 951ms/step - accuracy: 1.0000 - loss: 0.0000e+00 - val_accuracy: 1.0000 - val_loss: 0.0000e+00\n",
            "Epoch 3/10\n",
            "\u001b[1m237/237\u001b[0m \u001b[32m━━━━━━━━━━━━━━━━━━━━\u001b[0m\u001b[37m\u001b[0m \u001b[1m258s\u001b[0m 935ms/step - accuracy: 1.0000 - loss: 0.0000e+00 - val_accuracy: 1.0000 - val_loss: 0.0000e+00\n",
            "Epoch 4/10\n",
            "\u001b[1m237/237\u001b[0m \u001b[32m━━━━━━━━━━━━━━━━━━━━\u001b[0m\u001b[37m\u001b[0m \u001b[1m248s\u001b[0m 876ms/step - accuracy: 1.0000 - loss: 0.0000e+00 - val_accuracy: 1.0000 - val_loss: 0.0000e+00\n",
            "Epoch 5/10\n",
            "\u001b[1m237/237\u001b[0m \u001b[32m━━━━━━━━━━━━━━━━━━━━\u001b[0m\u001b[37m\u001b[0m \u001b[1m261s\u001b[0m 876ms/step - accuracy: 1.0000 - loss: 0.0000e+00 - val_accuracy: 1.0000 - val_loss: 0.0000e+00\n",
            "Epoch 6/10\n",
            "\u001b[1m237/237\u001b[0m \u001b[32m━━━━━━━━━━━━━━━━━━━━\u001b[0m\u001b[37m\u001b[0m \u001b[1m262s\u001b[0m 878ms/step - accuracy: 1.0000 - loss: 0.0000e+00 - val_accuracy: 1.0000 - val_loss: 0.0000e+00\n",
            "Epoch 7/10\n",
            "\u001b[1m237/237\u001b[0m \u001b[32m━━━━━━━━━━━━━━━━━━━━\u001b[0m\u001b[37m\u001b[0m \u001b[1m261s\u001b[0m 872ms/step - accuracy: 1.0000 - loss: 0.0000e+00 - val_accuracy: 1.0000 - val_loss: 0.0000e+00\n",
            "Epoch 8/10\n",
            "\u001b[1m237/237\u001b[0m \u001b[32m━━━━━━━━━━━━━━━━━━━━\u001b[0m\u001b[37m\u001b[0m \u001b[1m271s\u001b[0m 909ms/step - accuracy: 1.0000 - loss: 0.0000e+00 - val_accuracy: 1.0000 - val_loss: 0.0000e+00\n",
            "Epoch 9/10\n",
            "\u001b[1m237/237\u001b[0m \u001b[32m━━━━━━━━━━━━━━━━━━━━\u001b[0m\u001b[37m\u001b[0m \u001b[1m255s\u001b[0m 880ms/step - accuracy: 1.0000 - loss: 0.0000e+00 - val_accuracy: 1.0000 - val_loss: 0.0000e+00\n",
            "Epoch 10/10\n",
            "\u001b[1m237/237\u001b[0m \u001b[32m━━━━━━━━━━━━━━━━━━━━\u001b[0m\u001b[37m\u001b[0m \u001b[1m267s\u001b[0m 897ms/step - accuracy: 1.0000 - loss: 0.0000e+00 - val_accuracy: 1.0000 - val_loss: 0.0000e+00\n"
          ]
        }
      ]
    },
    {
      "cell_type": "code",
      "source": [
        "# Evaluar el modelo\n",
        "pérdida, precisión = modelo.evaluate(X_test, y_test)\n",
        "print(f\"Precisión en conjunto de prueba: {precisión * 100:.2f}%\")\n"
      ],
      "metadata": {
        "colab": {
          "base_uri": "https://localhost:8080/"
        },
        "id": "BHIv2YRw9ROR",
        "outputId": "267fee9e-1699-4843-88dd-251ef38f7569"
      },
      "execution_count": null,
      "outputs": [
        {
          "output_type": "stream",
          "name": "stdout",
          "text": [
            "\u001b[1m60/60\u001b[0m \u001b[32m━━━━━━━━━━━━━━━━━━━━\u001b[0m\u001b[37m\u001b[0m \u001b[1m14s\u001b[0m 237ms/step - accuracy: 1.0000 - loss: 0.0000e+00\n",
            "Precisión en conjunto de prueba: 100.00%\n"
          ]
        }
      ]
    },
    {
      "cell_type": "code",
      "source": [
        "def predecir_imagen(imagen_path):\n",
        "    # Cargar y preprocesar la imagen\n",
        "    imagen = cv2.imread(imagen_path)\n",
        "    imagen = cv2.cvtColor(imagen, cv2.COLOR_BGR2GRAY)  # Convertir a escala de grises\n",
        "    imagen = cv2.resize(imagen, (128, 128))  # Redimensionar a 128x128 píxeles\n",
        "    imagen = imagen.reshape(1, 128, 128, 1)  # Cambiar la forma para la predicción\n",
        "    imagen = imagen.astype('float32') / 255.0  # Normalizar la imagen\n",
        "\n",
        "    # Hacer la predicción\n",
        "    predicción = modelo.predict(imagen)\n",
        "    if predicción > 0.5:\n",
        "        return \"Fractura\"\n",
        "    else:\n",
        "        return \"Sin fractura\"\n",
        "\n",
        "# Ejemplo de predicción con una nueva imagen\n",
        "resultado = predecir_imagen('/content/bone_fracture_dataset/archive (6)/train/fractured/10-rotated1-rotated1-rotated1.jpg')  # Cambia la ruta según tu imagen\n",
        "print(f\"Predicción: {resultado}\")\n"
      ],
      "metadata": {
        "colab": {
          "base_uri": "https://localhost:8080/"
        },
        "id": "RF-S5zeP9V84",
        "outputId": "d10c2191-b36c-40f0-9b4e-a0089994b4ed"
      },
      "execution_count": null,
      "outputs": [
        {
          "output_type": "stream",
          "name": "stdout",
          "text": [
            "\u001b[1m1/1\u001b[0m \u001b[32m━━━━━━━━━━━━━━━━━━━━\u001b[0m\u001b[37m\u001b[0m \u001b[1m0s\u001b[0m 103ms/step\n",
            "Predicción: Fractura\n"
          ]
        }
      ]
    },
    {
      "cell_type": "code",
      "source": [
        "import matplotlib.pyplot as plt\n",
        "\n",
        "# Graficar la precisión y la pérdida durante el entrenamiento\n",
        "plt.plot(historial.history['accuracy'], label='Precisión de entrenamiento')\n",
        "plt.plot(historial.history['val_accuracy'], label='Precisión de validación')\n",
        "plt.title('Precisión del modelo')\n",
        "plt.xlabel('Épocas')\n",
        "plt.ylabel('Precisión')\n",
        "plt.legend(loc='lower right')\n",
        "plt.show()\n",
        "\n",
        "plt.plot(historial.history['loss'], label='Pérdida de entrenamiento')\n",
        "plt.plot(historial.history['val_loss'], label='Pérdida de validación')\n",
        "plt.title('Pérdida del modelo')\n",
        "plt.xlabel('Épocas')\n",
        "plt.ylabel('Pérdida')\n",
        "plt.legend(loc='upper right')\n",
        "plt.show()\n"
      ],
      "metadata": {
        "colab": {
          "base_uri": "https://localhost:8080/",
          "height": 931
        },
        "id": "8lhEcg-69YYv",
        "outputId": "eceaa95b-b88b-424d-8639-c7d92e8842d8"
      },
      "execution_count": null,
      "outputs": [
        {
          "output_type": "display_data",
          "data": {
            "text/plain": [
              "<Figure size 640x480 with 1 Axes>"
            ],
            "image/png": "[encoded data removed]"
          },
          "metadata": {}
        },
        {
          "output_type": "display_data",
          "data": {
            "text/plain": [
              "<Figure size 640x480 with 1 Axes>"
            ],
            "image/png": "[encoded data removed]"
          },
          "metadata": {}
        }
      ]
    },
    {
      "cell_type": "code",
      "source": [
        "!mkdir fractura"
      ],
      "metadata": {
        "id": "gJgnEJ3DUazf"
      },
      "execution_count": null,
      "outputs": []
    },
    {
      "cell_type": "code",
      "source": [
        "import os\n",
        "os.environ[\"TF_USE_LEGACY_KERAS\"] = \"1\""
      ],
      "metadata": {
        "id": "Oq3Dm9DeUf2-"
      },
      "execution_count": null,
      "outputs": []
    },
    {
      "cell_type": "code",
      "source": [
        "import os\n",
        "\n",
        "# Verificar las carpetas y archivos dentro de tu directorio\n",
        "imagenes_dir = '/content/bone_fracture_dataset/archive/train'\n",
        "print(os.listdir(imagenes_dir))  # Esto debería mostrar las carpetas 'fractured' y 'not_fractured' u otras\n"
      ],
      "metadata": {
        "colab": {
          "base_uri": "https://localhost:8080/"
        },
        "id": "PwLW7Sq5ZPLI",
        "outputId": "2cd5963e-5aae-4036-b73c-1ad526122a01"
      },
      "execution_count": null,
      "outputs": [
        {
          "output_type": "stream",
          "name": "stdout",
          "text": [
            "['not fractured', 'fractured']\n"
          ]
        }
      ]
    },
    {
      "cell_type": "code",
      "source": [
        "import tensorflow as tf\n",
        "import numpy as np\n",
        "import os\n",
        "from tensorflow.keras.preprocessing import image\n",
        "from tensorflow.keras.models import Sequential\n",
        "from tensorflow.keras.layers import Dense, Flatten\n",
        "from tensorflow.keras.optimizers import Adam\n",
        "from sklearn.model_selection import train_test_split\n",
        "import json\n",
        "\n",
        "# Definir las rutas de las imágenes (ajustar a la ubicación de tus datos)\n",
        "imagenes_dir = '/content/bone_fracture_dataset/archive/train'  # Cambia esta ruta por la ruta de tu dataset\n",
        "\n",
        "# Cargar imágenes y etiquetas\n",
        "def cargar_imagenes(imagenes_dir):\n",
        "    imagenes = []\n",
        "    etiquetas = []\n",
        "\n",
        "    # Cargar imágenes de fractura\n",
        "    for imagen_name in os.listdir(os.path.join(imagenes_dir, 'fractured')):\n",
        "        img_path = os.path.join(imagenes_dir, 'fractured', '10-rotated1.jpg')\n",
        "        img = image.load_img(img_path, target_size=(128, 128), color_mode=\"grayscale\")\n",
        "        img = image.img_to_array(img)\n",
        "        img = np.expand_dims(img, axis=0)\n",
        "        img = img.astype('float32') / 255.0  # Normalización\n",
        "        imagenes.append(img)\n",
        "        etiquetas.append(1)  # 1 indica fractura\n",
        "\n",
        "    # Cargar imágenes sin fractura\n",
        "    for imagen_name in os.listdir(os.path.join(imagenes_dir, 'not fractured')):\n",
        "        img_path = os.path.join(imagenes_dir, 'not fractured', '10.jpg')\n",
        "        img = image.load_img(img_path, target_size=(128, 128), color_mode=\"grayscale\")\n",
        "        img = image.img_to_array(img)\n",
        "        img = np.expand_dims(img, axis=0)\n",
        "        img = img.astype('float32') / 255.0  # Normalización\n",
        "        imagenes.append(img)\n",
        "        etiquetas.append(0)  # 0 indica sin fractura\n",
        "\n",
        "    return np.array(imagenes), np.array(etiquetas)\n",
        "\n",
        "# Cargar las imágenes\n",
        "imagenes, etiquetas = cargar_imagenes(imagenes_dir)\n",
        "\n",
        "# Dividir en entrenamiento y prueba\n",
        "X_train, X_test, y_train, y_test = train_test_split(imagenes, etiquetas, test_size=0.2, random_state=42)\n",
        "\n",
        "# Crear el modelo\n",
        "modelo = Sequential([\n",
        "    Flatten(input_shape=(128, 128, 1)),  # Aplanar la imagen\n",
        "    Dense(128, activation='relu'),\n",
        "    Dense(1, activation='sigmoid')  # Salida binaria: fractura o no fractura\n",
        "])\n",
        "\n",
        "# Compilar el modelo\n",
        "modelo.compile(optimizer=Adam(0.001), loss='binary_crossentropy', metrics=['accuracy'])\n",
        "\n",
        "# Entrenar el modelo\n",
        "historial = modelo.fit(X_train, y_train, epochs=10, validation_data=(X_test, y_test))\n",
        "\n",
        "# Crear una carpeta para guardar los modelos\n",
        "if not os.path.exists('models'):\n",
        "    os.makedirs('models')\n",
        "\n",
        "# Guardar el modelo en formato .h5\n",
        "modelo.save('models/modelo_fractura.h5')\n",
        "\n",
        "# Guardar el archivo de configuración en formato .json\n",
        "config = {\n",
        "    \"input_size\": (128, 128),\n",
        "    \"epochs\": 10,\n",
        "    \"loss\": \"binary_crossentropy\",\n",
        "    \"optimizer\": \"Adam\",\n",
        "    \"metrics\": [\"accuracy\"]\n",
        "}\n",
        "\n",
        "# Guardar la configuración en un archivo .json\n",
        "with open('models/config.json', 'w') as json_file:\n",
        "    json.dump(config, json_file)\n",
        "\n",
        "print(\"Modelo entrenado y guardado como .h5 y .json en la carpeta 'models'.\")\n"
      ],
      "metadata": {
        "colab": {
          "base_uri": "https://localhost:8080/"
        },
        "id": "kLnPleXEXMJE",
        "outputId": "3f0b4a3d-c914-4e5a-a465-74e3b628ab19"
      },
      "execution_count": null,
      "outputs": [
        {
          "output_type": "stream",
          "name": "stderr",
          "text": [
            "/usr/local/lib/python3.10/dist-packages/keras/src/layers/reshaping/flatten.py:37: UserWarning: Do not pass an `input_shape`/`input_dim` argument to a layer. When using Sequential models, prefer using an `Input(shape)` object as the first layer in the model instead.\n",
            "  super().__init__(**kwargs)\n"
          ]
        },
        {
          "output_type": "stream",
          "name": "stdout",
          "text": [
            "Epoch 1/10\n",
            "\u001b[1m222/222\u001b[0m \u001b[32m━━━━━━━━━━━━━━━━━━━━\u001b[0m\u001b[37m\u001b[0m \u001b[1m8s\u001b[0m 30ms/step - accuracy: 0.9832 - loss: 0.0225 - val_accuracy: 1.0000 - val_loss: 5.7107e-12\n",
            "Epoch 2/10\n",
            "\u001b[1m222/222\u001b[0m \u001b[32m━━━━━━━━━━━━━━━━━━━━\u001b[0m\u001b[37m\u001b[0m \u001b[1m8s\u001b[0m 34ms/step - accuracy: 1.0000 - loss: 5.7539e-12 - val_accuracy: 1.0000 - val_loss: 5.7107e-12\n",
            "Epoch 3/10\n",
            "\u001b[1m222/222\u001b[0m \u001b[32m━━━━━━━━━━━━━━━━━━━━\u001b[0m\u001b[37m\u001b[0m \u001b[1m10s\u001b[0m 31ms/step - accuracy: 1.0000 - loss: 5.7693e-12 - val_accuracy: 1.0000 - val_loss: 5.7107e-12\n",
            "Epoch 4/10\n",
            "\u001b[1m222/222\u001b[0m \u001b[32m━━━━━━━━━━━━━━━━━━━━\u001b[0m\u001b[37m\u001b[0m \u001b[1m10s\u001b[0m 30ms/step - accuracy: 1.0000 - loss: 5.8396e-12 - val_accuracy: 1.0000 - val_loss: 5.7107e-12\n",
            "Epoch 5/10\n",
            "\u001b[1m222/222\u001b[0m \u001b[32m━━━━━━━━━━━━━━━━━━━━\u001b[0m\u001b[37m\u001b[0m \u001b[1m10s\u001b[0m 29ms/step - accuracy: 1.0000 - loss: 5.6007e-12 - val_accuracy: 1.0000 - val_loss: 5.7107e-12\n",
            "Epoch 6/10\n",
            "\u001b[1m222/222\u001b[0m \u001b[32m━━━━━━━━━━━━━━━━━━━━\u001b[0m\u001b[37m\u001b[0m \u001b[1m11s\u001b[0m 33ms/step - accuracy: 1.0000 - loss: 5.7763e-12 - val_accuracy: 1.0000 - val_loss: 5.7107e-12\n",
            "Epoch 7/10\n",
            "\u001b[1m222/222\u001b[0m \u001b[32m━━━━━━━━━━━━━━━━━━━━\u001b[0m\u001b[37m\u001b[0m \u001b[1m10s\u001b[0m 33ms/step - accuracy: 1.0000 - loss: 5.8645e-12 - val_accuracy: 1.0000 - val_loss: 5.7107e-12\n",
            "Epoch 8/10\n",
            "\u001b[1m222/222\u001b[0m \u001b[32m━━━━━━━━━━━━━━━━━━━━\u001b[0m\u001b[37m\u001b[0m \u001b[1m9s\u001b[0m 28ms/step - accuracy: 1.0000 - loss: 5.7057e-12 - val_accuracy: 1.0000 - val_loss: 5.7107e-12\n",
            "Epoch 9/10\n",
            "\u001b[1m222/222\u001b[0m \u001b[32m━━━━━━━━━━━━━━━━━━━━\u001b[0m\u001b[37m\u001b[0m \u001b[1m10s\u001b[0m 29ms/step - accuracy: 1.0000 - loss: 5.8337e-12 - val_accuracy: 1.0000 - val_loss: 5.7107e-12\n",
            "Epoch 10/10\n",
            "\u001b[1m222/222\u001b[0m \u001b[32m━━━━━━━━━━━━━━━━━━━━\u001b[0m\u001b[37m\u001b[0m \u001b[1m7s\u001b[0m 33ms/step - accuracy: 1.0000 - loss: 5.6313e-12 - val_accuracy: 1.0000 - val_loss: 5.7107e-12\n"
          ]
        },
        {
          "output_type": "stream",
          "name": "stderr",
          "text": [
            "WARNING:absl:You are saving your model as an HDF5 file via `model.save()` or `keras.saving.save_model(model)`. This file format is considered legacy. We recommend using instead the native Keras format, e.g. `model.save('my_model.keras')` or `keras.saving.save_model(model, 'my_model.keras')`. \n"
          ]
        },
        {
          "output_type": "stream",
          "name": "stdout",
          "text": [
            "Modelo entrenado y guardado como .h5 y .json en la carpeta 'models'.\n"
          ]
        }
      ]
    },
    {
      "cell_type": "code",
      "source": [
        "pip install opencv-python\n"
      ],
      "metadata": {
        "colab": {
          "base_uri": "https://localhost:8080/"
        },
        "id": "Ni3JUJDKdbMz",
        "outputId": "206e114d-f94c-4f55-9d37-5bcefed024d8"
      },
      "execution_count": null,
      "outputs": [
        {
          "output_type": "stream",
          "name": "stdout",
          "text": [
            "Requirement already satisfied: opencv-python in /usr/local/lib/python3.10/dist-packages (4.10.0.84)\n",
            "Requirement already satisfied: numpy>=1.21.2 in /usr/local/lib/python3.10/dist-packages (from opencv-python) (1.26.4)\n"
          ]
        }
      ]
    },
    {
      "cell_type": "code",
      "source": [
        "import cv2\n",
        "import numpy as np\n",
        "\n",
        "# Función para capturar una imagen desde la cámara USB\n",
        "def capture_image_from_usb_camera(camera_index=0):\n",
        "    # 'camera_index' puede ser 0 o 1 dependiendo de cuántas cámaras USB estén conectadas\n",
        "    cap = cv2.VideoCapture(camera_index)\n",
        "\n",
        "    if not cap.isOpened():\n",
        "        print(\"No se puede acceder a la cámara USB.\")\n",
        "        return None\n",
        "\n",
        "    # Capturamos un solo frame\n",
        "    ret, frame = cap.read()\n",
        "\n",
        "    if ret:\n",
        "        # Mostramos la imagen capturada\n",
        "        cv2.imshow('Imagen de la cámara', frame)\n",
        "\n",
        "        # Esperamos una tecla para cerrar la ventana de imagen\n",
        "        cv2.waitKey(0)\n",
        "        cv2.destroyAllWindows()\n",
        "\n",
        "    # Liberamos la cámara después de capturar la imagen\n",
        "    cap.release()\n",
        "\n",
        "    if ret:\n",
        "        return frame\n",
        "    else:\n",
        "        return None\n",
        "\n",
        "# Preprocesar la imagen (ajusta esto según cómo procesas las imágenes para tu modelo)\n",
        "def preprocess_image(image):\n",
        "    # Redimensionar la imagen al tamaño esperado por el modelo\n",
        "    image_resized = cv2.resize(image, (224, 224))  # Ajusta el tamaño según tu modelo\n",
        "\n",
        "    # Normalizar la imagen (si es necesario)\n",
        "    image_normalized = image_resized / 255.0  # Asumiendo que usas normalización [0, 1]\n",
        "\n",
        "    # Expande las dimensiones para que sea compatible con la entrada del modelo (batch size, altura, anchura, canales)\n",
        "    image_expanded = np.expand_dims(image_normalized, axis=0)\n",
        "\n",
        "    return image_expanded\n",
        "\n",
        "# Suponiendo que ya tienes tu modelo cargado\n",
        "def predict_with_model(model, image):\n",
        "    # Preprocesar la imagen antes de hacer la predicción\n",
        "    processed_image = preprocess_image(image)\n",
        "\n",
        "    # Realizar la predicción\n",
        "    prediction = model.predict(processed_image)\n",
        "\n",
        "    return prediction\n",
        "\n",
        "# Capturamos la imagen desde la cámara USB\n",
        "image = capture_image_from_usb_camera()\n",
        "\n",
        "if image is not None:\n",
        "    # Realizamos la predicción con el modelo\n",
        "    prediction = predict_with_model(model, image)\n",
        "\n",
        "    print(\"Predicción:\", prediction)\n"
      ],
      "metadata": {
        "colab": {
          "base_uri": "https://localhost:8080/"
        },
        "id": "zjXVhieAdivt",
        "outputId": "85fcc381-4ea2-4c8f-bc96-9047d18d4842"
      },
      "execution_count": null,
      "outputs": [
        {
          "output_type": "stream",
          "name": "stdout",
          "text": [
            "No se puede acceder a la cámara USB.\n"
          ]
        }
      ]
    },
    {
      "cell_type": "code",
      "source": [
        "# Instalamos las bibliotecas necesarias\n",
        "from IPython.display import display, Javascript\n",
        "import cv2\n",
        "import numpy as np\n",
        "import tensorflow as tf  # Si usas TensorFlow\n",
        "\n",
        "# Función para capturar una imagen desde la cámara web en Google Colab\n",
        "def capture_image_from_webcam():\n",
        "    # Código JavaScript que abrirá la cámara en el entorno de Colab\n",
        "    display(Javascript('''\n",
        "    async function takePhoto() {\n",
        "        const video = document.createElement('video');\n",
        "        document.body.appendChild(video);\n",
        "\n",
        "        const stream = await navigator.mediaDevices.getUserMedia({video: true});\n",
        "        video.srcObject = stream;\n",
        "\n",
        "        await new Promise((resolve) => { video.onloadedmetadata = () => { resolve(video); }; });\n",
        "\n",
        "        video.play();\n",
        "\n",
        "        // Esperar un momento para que la cámara cargue\n",
        "        await new Promise((resolve) => setTimeout(resolve, 1000));\n",
        "\n",
        "        const canvas = document.createElement('canvas');\n",
        "        canvas.width = video.videoWidth;\n",
        "        canvas.height = video.videoHeight;\n",
        "\n",
        "        canvas.getContext('2d').drawImage(video, 0, 0);\n",
        "\n",
        "        const imageData = canvas.toDataURL('image/png');\n",
        "\n",
        "        // Detener la cámara\n",
        "        stream.getTracks().forEach(track => track.stop());\n",
        "\n",
        "        video.remove();\n",
        "        canvas.remove();\n",
        "\n",
        "        return imageData;\n",
        "    }\n",
        "    takePhoto().then(dataUrl => {\n",
        "        google.colab.kernel.invokeFunction('notebook.take_picture', [dataUrl], {});\n",
        "    });\n",
        "    '''))\n",
        "\n",
        "# Función para recibir la imagen de la cámara y convertirla en formato que OpenCV pueda usar\n",
        "from PIL import Image\n",
        "from io import BytesIO\n",
        "import base64\n",
        "\n",
        "def handle_image_data(image_data):\n",
        "    # Decodificar la imagen desde base64\n",
        "    image_data = image_data.split(',')[1]\n",
        "    image_bytes = BytesIO(base64.b64decode(image_data))\n",
        "    img = Image.open(image_bytes)\n",
        "\n",
        "    # Convertir la imagen PIL a un formato que OpenCV pueda procesar\n",
        "    img = np.array(img)\n",
        "    img = cv2.cvtColor(img, cv2.COLOR_RGB2BGR)\n",
        "\n",
        "    # Mostrar la imagen en Google Colab\n",
        "    cv2.imshow(\"Captured Image\", img)\n",
        "    cv2.waitKey(0)\n",
        "    cv2.destroyAllWindows()\n",
        "\n",
        "    return img\n",
        "\n",
        "# Función de predicción con el modelo (ajusta según tu modelo)\n",
        "def predict_with_model(model, image):\n",
        "    # Preprocesar la imagen para el modelo (ajusta según las dimensiones esperadas)\n",
        "    image_resized = cv2.resize(image, (224, 224))  # Ajusta el tamaño según tu modelo\n",
        "    image_normalized = image_resized / 255.0\n",
        "    image_expanded = np.expand_dims(image_normalized, axis=0)\n",
        "\n",
        "    # Realizar la predicción\n",
        "    prediction = model.predict(image_expanded)\n",
        "    return prediction\n",
        "\n",
        "# Registrar la función 'handle_image_data' para ser llamada desde el JavaScript\n",
        "from google.colab import output\n",
        "output.register_callback('notebook.take_picture', handle_image_data)\n",
        "\n",
        "# Llamar a la función para capturar la imagen\n",
        "capture_image_from_webcam()\n"
      ],
      "metadata": {
        "colab": {
          "base_uri": "https://localhost:8080/",
          "height": 17
        },
        "id": "ogkh1bDOeR38",
        "outputId": "0c57a586-a1a5-4fa8-b4d0-4660297d854c"
      },
      "execution_count": null,
      "outputs": [
        {
          "output_type": "display_data",
          "data": {
            "text/plain": [
              "<IPython.core.display.Javascript object>"
            ],
            "application/javascript": [
              "\n",
              "    async function takePhoto() {\n",
              "        const video = document.createElement('video');\n",
              "        document.body.appendChild(video);\n",
              "        \n",
              "        const stream = await navigator.mediaDevices.getUserMedia({video: true});\n",
              "        video.srcObject = stream;\n",
              "        \n",
              "        await new Promise((resolve) => { video.onloadedmetadata = () => { resolve(video); }; });\n",
              "        \n",
              "        video.play();\n",
              "        \n",
              "        // Esperar un momento para que la cámara cargue\n",
              "        await new Promise((resolve) => setTimeout(resolve, 1000));\n",
              "        \n",
              "        const canvas = document.createElement('canvas');\n",
              "        canvas.width = video.videoWidth;\n",
              "        canvas.height = video.videoHeight;\n",
              "        \n",
              "        canvas.getContext('2d').drawImage(video, 0, 0);\n",
              "        \n",
              "        const imageData = canvas.toDataURL('image/png');\n",
              "        \n",
              "        // Detener la cámara\n",
              "        stream.getTracks().forEach(track => track.stop());\n",
              "        \n",
              "        video.remove();\n",
              "        canvas.remove();\n",
              "        \n",
              "        return imageData;\n",
              "    }\n",
              "    takePhoto().then(dataUrl => {\n",
              "        google.colab.kernel.invokeFunction('notebook.take_picture', [dataUrl], {});\n",
              "    });\n",
              "    "
            ]
          },
          "metadata": {}
        }
      ]
    }
  ]
}