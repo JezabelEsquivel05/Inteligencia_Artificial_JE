{
  "nbformat": 4,
  "nbformat_minor": 0,
  "metadata": {
    "colab": {
      "provenance": [],
      "authorship_tag": "ABX9TyNq4EPsRRRxsoWywBg/9BAJ",
      "include_colab_link": true
    },
    "kernelspec": {
      "name": "python3",
      "display_name": "Python 3"
    },
    "language_info": {
      "name": "python"
    }
  },
  "cells": [
    {
      "cell_type": "markdown",
      "metadata": {
        "id": "view-in-github",
        "colab_type": "text"
      },
      "source": [
        "<a href=\"https://colab.research.google.com/github/JezabelEsquivel05/Inteligencia_Artificial_JE/blob/main/Evaluaci%C3%B3n.ipynb\" target=\"_parent\"><img src=\"https://colab.research.google.com/assets/colab-badge.svg\" alt=\"Open In Colab\"/></a>"
      ]
    },
    {
      "cell_type": "markdown",
      "source": [
        "Evaluación\n",
        "Crear un notebook en colab a partir del programa base de la compuerta AND\n",
        "Modificar para que funcione con las dos compuertas AND y OR\n",
        "Criterios de aceptación: El programa va a solicitar los valores del datashet para X0 y X1, por lo cual\n",
        "la impresión de resultados debe mostrar la compuerta AND y la compuerta OR (Y).\n",
        "Menu interactivo donde pregunte si quiero introducir otro datashet\n",
        "Entrega en un documento en PDF con Portada y URL de Colab y GitHub el 22 de septiembre del 2024."
      ],
      "metadata": {
        "id": "cRYZetd-LS9u"
      }
    },
    {
      "cell_type": "markdown",
      "source": [
        "![image.png](data:image/png;base64,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)\n",
        "\n",
        "![image.png](data:image/png;base64,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)"
      ],
      "metadata": {
        "id": "_8s7bRkwL92r"
      }
    },
    {
      "cell_type": "code",
      "execution_count": 1,
      "metadata": {
        "id": "Asj6vqpaLRGU",
        "colab": {
          "base_uri": "https://localhost:8080/"
        },
        "outputId": "77293d77-5969-4cc4-ffbe-d68d64234825"
      },
      "outputs": [
        {
          "name": "stdout",
          "output_type": "stream",
          "text": [
            "Introduce el valor de X0 (0 o 1): 0\n",
            "Introduce el valor de X1 (0 o 1): 0\n",
            "-1 + 0 * 1\n",
            "-1 + 0 * 1\n",
            "0 AND 0 = 0\n",
            "0 OR 0 = 0\n",
            "¿Deseas introducir otro dataset? (s/n): s\n",
            "Introduce el valor de X0 (0 o 1): 0\n",
            "Introduce el valor de X1 (0 o 1): 1\n",
            "-1 + 0 * 1\n",
            "-1 + 1 * 1\n",
            "0 AND 1 = 0\n",
            "0 OR 1 = 1\n",
            "¿Deseas introducir otro dataset? (s/n): s\n",
            "Introduce el valor de X0 (0 o 1): 1\n",
            "Introduce el valor de X1 (0 o 1): 0\n",
            "-1 + 1 * 1\n",
            "0 + 0 * 1\n",
            "1 AND 0 = 0\n",
            "1 OR 0 = 1\n",
            "¿Deseas introducir otro dataset? (s/n): s\n",
            "Introduce el valor de X0 (0 o 1): 1\n",
            "Introduce el valor de X1 (0 o 1): 1\n",
            "-1 + 1 * 1\n",
            "0 + 1 * 1\n",
            "1 AND 1 = 1\n",
            "1 OR 1 = 1\n",
            "¿Deseas introducir otro dataset? (s/n): n\n"
          ]
        }
      ],
      "source": [
        "def calcular_compuertas(x):\n",
        "    # Pesos\n",
        "    w = [1, 1]\n",
        "    s = -1  # Número fijo\n",
        "\n",
        "    # Calcular la salida\n",
        "    for i in range(2):\n",
        "        print(f\"{s} + {x[i]} * {w[i]}\")  # tester\n",
        "        s += x[i] * w[i]\n",
        "\n",
        "    return s\n",
        "\n",
        "def main():\n",
        "    while True:\n",
        "        # Solicitar valores de entrada\n",
        "        x0 = int(input(\"Introduce el valor de X0 (0 o 1): \"))\n",
        "        x1 = int(input(\"Introduce el valor de X1 (0 o 1): \"))\n",
        "        x = [x0, x1]\n",
        "\n",
        "        # Calcular la salida para AND\n",
        "        s_and = calcular_compuertas(x)\n",
        "        y_and = 1 if s_and > 0 else 0\n",
        "        print(f\"{x[0]} AND {x[1]} = {y_and}\")\n",
        "\n",
        "        # Calcular la salida para OR\n",
        "        s_or = sum(x)  # Para la compuerta OR solo sumamos\n",
        "        y_or = 1 if s_or > 0 else 0\n",
        "        print(f\"{x[0]} OR {x[1]} = {y_or}\")\n",
        "\n",
        "        # Preguntar si desea introducir otro dataset\n",
        "        otra_entrada = input(\"¿Deseas introducir otro dataset? (s/n): \")\n",
        "        if otra_entrada.lower() != 's':\n",
        "            break\n",
        "\n",
        "if __name__ == \"__main__\":\n",
        "    main()\n"
      ]
    }
  ]
}