{
  "nbformat": 4,
  "nbformat_minor": 0,
  "metadata": {
    "colab": {
      "provenance": [],
      "toc_visible": true,
      "authorship_tag": "ABX9TyM56A6ripax6S0VIiZJsNO8",
      "include_colab_link": true
    },
    "kernelspec": {
      "name": "python3",
      "display_name": "Python 3"
    },
    "language_info": {
      "name": "python"
    }
  },
  "cells": [
    {
      "cell_type": "markdown",
      "metadata": {
        "id": "view-in-github",
        "colab_type": "text"
      },
      "source": [
        "<a href=\"https://colab.research.google.com/github/JezabelEsquivel05/Inteligencia_Artificial_JE/blob/main/InteligenciaArtificialTrabajos.ipynb\" target=\"_parent\"><img src=\"https://colab.research.google.com/assets/colab-badge.svg\" alt=\"Open In Colab\"/></a>"
      ]
    },
    {
      "cell_type": "markdown",
      "source": [
        "# Examen Diagnostico\n"
      ],
      "metadata": {
        "id": "vt3Npbs20meo"
      }
    },
    {
      "cell_type": "markdown",
      "source": [
        "¿como se declara una lista en python?\n"
      ],
      "metadata": {
        "id": "QmGEC0bVq1Tq"
      }
    },
    {
      "cell_type": "code",
      "source": [
        "my_list=[1,2,3]\n",
        "print(my_list)"
      ],
      "metadata": {
        "colab": {
          "base_uri": "https://localhost:8080/"
        },
        "id": "ubrTIJ6IqyGy",
        "outputId": "07409415-23f7-4308-b8f0-1faa96853c8a"
      },
      "execution_count": null,
      "outputs": [
        {
          "output_type": "stream",
          "name": "stdout",
          "text": [
            "[1, 2, 3]\n"
          ]
        }
      ]
    },
    {
      "cell_type": "markdown",
      "source": [
        "¿Que funcion se usa para conocer el numero de elementos en una lista?"
      ],
      "metadata": {
        "id": "JjmW3sQ5rMWz"
      }
    },
    {
      "cell_type": "code",
      "source": [
        "print(len(my_list))"
      ],
      "metadata": {
        "colab": {
          "base_uri": "https://localhost:8080/"
        },
        "id": "7-AGXqBhrKna",
        "outputId": "5d995b77-8f43-4ab4-b00d-1836fc7445bd"
      },
      "execution_count": null,
      "outputs": [
        {
          "output_type": "stream",
          "name": "stdout",
          "text": [
            "3\n"
          ]
        }
      ]
    },
    {
      "cell_type": "markdown",
      "source": [
        "¿Que resultado optendremos al ejecutar el sisguiente código?\n"
      ],
      "metadata": {
        "id": "m86kP7B6rkJd"
      }
    },
    {
      "cell_type": "code",
      "execution_count": null,
      "metadata": {
        "colab": {
          "base_uri": "https://localhost:8080/"
        },
        "id": "62Ue6orPphHs",
        "outputId": "628f6681-1d11-43e2-890b-2e15101e1ea4"
      },
      "outputs": [
        {
          "output_type": "stream",
          "name": "stdout",
          "text": [
            "[5, 4, 3, 2, 1]\n"
          ]
        }
      ],
      "source": [
        "a=[1,2,3,4,5]\n",
        "print(a[::-1])"
      ]
    },
    {
      "cell_type": "markdown",
      "source": [
        "¿Cual es el resultado de la siguiente expresión?"
      ],
      "metadata": {
        "id": "MAAb5H7Ir9kb"
      }
    },
    {
      "cell_type": "code",
      "source": [
        "print(3*\"5\"+2)"
      ],
      "metadata": {
        "colab": {
          "base_uri": "https://localhost:8080/",
          "height": 141
        },
        "id": "eYTAZdKfqf9l",
        "outputId": "e997acb2-3890-4d01-cc01-b5a88f4ae593"
      },
      "execution_count": null,
      "outputs": [
        {
          "output_type": "error",
          "ename": "TypeError",
          "evalue": "can only concatenate str (not \"int\") to str",
          "traceback": [
            "\u001b[0;31m---------------------------------------------------------------------------\u001b[0m",
            "\u001b[0;31mTypeError\u001b[0m                                 Traceback (most recent call last)",
            "\u001b[0;32m<ipython-input-4-ecf93d8422a1>\u001b[0m in \u001b[0;36m<cell line: 1>\u001b[0;34m()\u001b[0m\n\u001b[0;32m----> 1\u001b[0;31m \u001b[0mprint\u001b[0m\u001b[0;34m(\u001b[0m\u001b[0;36m3\u001b[0m\u001b[0;34m*\u001b[0m\u001b[0;34m\"5\"\u001b[0m\u001b[0;34m+\u001b[0m\u001b[0;36m2\u001b[0m\u001b[0;34m)\u001b[0m\u001b[0;34m\u001b[0m\u001b[0;34m\u001b[0m\u001b[0m\n\u001b[0m",
            "\u001b[0;31mTypeError\u001b[0m: can only concatenate str (not \"int\") to str"
          ]
        }
      ]
    },
    {
      "cell_type": "markdown",
      "source": [
        "¿Qué salida generará el siguiente código?"
      ],
      "metadata": {
        "id": "dflRNPrTsfOQ"
      }
    },
    {
      "cell_type": "code",
      "source": [
        "def foo(x,y=[]):\n",
        "  y.append(x)\n",
        "  return y\n",
        "\n",
        "print(foo(1))\n",
        "print(foo(2,[]))\n",
        "print(foo(3))"
      ],
      "metadata": {
        "colab": {
          "base_uri": "https://localhost:8080/"
        },
        "id": "rHfG8_RdsOSp",
        "outputId": "9fd9ffff-629c-4733-b227-ecfdfe626d08"
      },
      "execution_count": null,
      "outputs": [
        {
          "output_type": "stream",
          "name": "stdout",
          "text": [
            "[1]\n",
            "[2]\n",
            "[1, 3]\n"
          ]
        }
      ]
    },
    {
      "cell_type": "markdown",
      "source": [
        "¿Que resultado obtendremos al ejecutar el siguiente codigo?"
      ],
      "metadata": {
        "id": "ShphrDGAtQUE"
      }
    },
    {
      "cell_type": "code",
      "source": [
        "def multiply_list(numbers,factor):\n",
        " result=[]\n",
        " for number in numbers:\n",
        "  result.append(number*factor)\n",
        " return result\n",
        "\n",
        "my_list=[1,2,3]\n",
        "output=multiply_list(my_list,2)\n",
        "print(output)"
      ],
      "metadata": {
        "colab": {
          "base_uri": "https://localhost:8080/"
        },
        "id": "vsytaWswtPo1",
        "outputId": "9ed7ffce-cc65-4937-f9fd-72f9903b421a"
      },
      "execution_count": null,
      "outputs": [
        {
          "output_type": "stream",
          "name": "stdout",
          "text": [
            "[2, 4, 6]\n"
          ]
        }
      ]
    },
    {
      "cell_type": "markdown",
      "source": [
        "# Practica de Paython"
      ],
      "metadata": {
        "id": "7MhVjZQ507dJ"
      }
    },
    {
      "cell_type": "markdown",
      "source": [
        "Practica #1 clasificaion de una lista con numeros pares e impares."
      ],
      "metadata": {
        "id": "VmtuOrId1H1Z"
      }
    },
    {
      "cell_type": "code",
      "source": [
        "#Declaracion de variables\n",
        "numeros = [10,25,36,98,77,34,89,58]\n",
        "pares=[]\n",
        "impares=[]\n",
        "print(type(numeros[0]))\n"
      ],
      "metadata": {
        "colab": {
          "base_uri": "https://localhost:8080/"
        },
        "id": "bVBFfNjI1esP",
        "outputId": "c805e956-3f74-41e3-f452-af6e4c4e9179"
      },
      "execution_count": null,
      "outputs": [
        {
          "output_type": "stream",
          "name": "stdout",
          "text": [
            "<class 'int'>\n"
          ]
        }
      ]
    },
    {
      "cell_type": "code",
      "source": [
        "#ciclo for para recorrer la lista\n",
        "for numero in numeros:  #se ocupan los dos puntos para el siclo for\n",
        "  if numero % 2 == 0:\n",
        "  # pares[0] = numeros[0]; java,c,c# \"0 es valor de 'i'\"\n",
        "     pares.append(numero)\n",
        "  else:\n",
        "     impares.append(numero)\n"
      ],
      "metadata": {
        "id": "kOa831UW2oSt"
      },
      "execution_count": null,
      "outputs": []
    },
    {
      "cell_type": "code",
      "source": [
        "#impresion de resultados\n",
        "print(\"Pares:\",pares,\"total:\",len(pares))\n",
        "print(\"Impares:\",impares,\"total:\", len(impares))\n"
      ],
      "metadata": {
        "colab": {
          "base_uri": "https://localhost:8080/"
        },
        "id": "iLfm5Gt44N3v",
        "outputId": "44cc4171-e1d1-4c23-9475-95660f839d98"
      },
      "execution_count": null,
      "outputs": [
        {
          "output_type": "stream",
          "name": "stdout",
          "text": [
            "Pares: [10, 36, 98, 34, 58] total: 5\n",
            "Impares: [25, 77, 89] total: 3\n"
          ]
        }
      ]
    },
    {
      "cell_type": "code",
      "source": [
        "#funcion suma de los numeros pares\n",
        "def sumaPares(lista):\n",
        "  suma = 0\n",
        "  for numero in lista:\n",
        "    suma += numero\n",
        "  return suma"
      ],
      "metadata": {
        "id": "6ZXV3bCQ6Oa8"
      },
      "execution_count": null,
      "outputs": []
    },
    {
      "cell_type": "code",
      "source": [
        "#impresion del la suma\n",
        "print(\"suma de pares\", sumaPares(pares))\n",
        "print(\"suma de impares\", sumaPares(impares))"
      ],
      "metadata": {
        "colab": {
          "base_uri": "https://localhost:8080/"
        },
        "id": "jA8QJns-7hwg",
        "outputId": "6ab97377-3b6c-48af-b2b0-8261762c5483"
      },
      "execution_count": null,
      "outputs": [
        {
          "output_type": "stream",
          "name": "stdout",
          "text": [
            "suma de pares 236\n",
            "suma de impares 191\n"
          ]
        }
      ]
    },
    {
      "cell_type": "markdown",
      "source": [
        "Ejercicio en clase"
      ],
      "metadata": {
        "id": "uJQHuV79atAZ"
      }
    },
    {
      "cell_type": "markdown",
      "source": [
        "# Practica2 Neurona aprendizaje compuerta AND"
      ],
      "metadata": {
        "id": "8WwWAn7Rai4a"
      }
    },
    {
      "cell_type": "markdown",
      "source": [
        "00 -> 0\n",
        "\n",
        "01 -> 0\n",
        "\n",
        "10 -> 0\n",
        "\n",
        "11 -> 1"
      ],
      "metadata": {
        "id": "daJIHFSabI4t"
      }
    },
    {
      "cell_type": "code",
      "source": [
        "x=[1,0]\n",
        "w=[10,0]\n",
        "s=0\n",
        "y=0\n",
        "for i in range(0,2):\n",
        "  s=s+x[i]*w[i]\n",
        "print(s)\n",
        "\n",
        "y=1 if s>0 else 0\n",
        "print(x[0],'AND',x[1],'=',y)"
      ],
      "metadata": {
        "colab": {
          "base_uri": "https://localhost:8080/"
        },
        "id": "C6ArC-gMbNs2",
        "outputId": "dced8e74-a4c3-4477-bd01-66475b737435"
      },
      "execution_count": 1,
      "outputs": [
        {
          "output_type": "stream",
          "name": "stdout",
          "text": [
            "10\n",
            "1 AND 0 = 1\n"
          ]
        }
      ]
    },
    {
      "cell_type": "markdown",
      "source": [
        "Tarea buscar el peso \"W\" correcto que nos de los resultados correctos en las combinaciones de datos de entrada \"X\" de la compuerta and \"S\""
      ],
      "metadata": {
        "id": "1Oq69iHadK7g"
      }
    },
    {
      "cell_type": "code",
      "source": [
        "x=[0,1]\n",
        "w=[10,2]\n",
        "s=0\n",
        "for i in range(0,2):\n",
        "  s=s+x[i]*w[i]\n",
        "print(s)\n",
        "\n",
        "y=1 if s>0 else 0\n",
        "print(x[0],'AND',x[1],'=',y)"
      ],
      "metadata": {
        "colab": {
          "base_uri": "https://localhost:8080/"
        },
        "id": "MYN09bqLdVOQ",
        "outputId": "6fecca90-ac6c-44a1-a2c7-ffdd6145a1b4"
      },
      "execution_count": 3,
      "outputs": [
        {
          "output_type": "stream",
          "name": "stdout",
          "text": [
            "2\n",
            "0 AND 1 = 1\n"
          ]
        }
      ]
    },
    {
      "cell_type": "markdown",
      "source": [
        "# Practica 2 - Ejercicios en python"
      ],
      "metadata": {
        "id": "IJh899Y7dukU"
      }
    },
    {
      "cell_type": "markdown",
      "source": [
        "Esquivel Garcia Daniela Jezabel"
      ],
      "metadata": {
        "id": "33Q97u_vdzS5"
      }
    },
    {
      "cell_type": "markdown",
      "source": [
        "Un taller automotriz necesita llevar un control de su inventario de repuestos. Crea un programa que permita agregar, eliminar y consultar la cantidad de repuestos disponibles, así como realizar una compra cuando el inventario de un repuesto está bajo."
      ],
      "metadata": {
        "id": "8znSkuNyd5PY"
      }
    },
    {
      "cell_type": "code",
      "source": [
        "class InventarioRepuestos:\n",
        "    def __init__(self):\n",
        "        self.inventario = {}\n",
        "\n",
        "    def agregar_repuesto(self, nombre, cantidad, precio):\n",
        "        if nombre in self.inventario:\n",
        "            self.inventario[nombre]['cantidad'] += cantidad\n",
        "            print(f\"Cantidad actualizada. {nombre}: {self.inventario[nombre]['cantidad']} unidades.\")\n",
        "        else:\n",
        "            self.inventario[nombre] = {'cantidad': cantidad, 'precio': precio}\n",
        "            print(f\"Repuesto agregado: {nombre} - {cantidad} unidades a ${precio} cada uno.\")\n",
        "\n",
        "    def eliminar_repuesto(self, nombre):\n",
        "        if nombre in self.inventario:\n",
        "            del self.inventario[nombre]\n",
        "            print(f\"Repuesto eliminado: {nombre}.\")\n",
        "        else:\n",
        "            print(f\"Repuesto {nombre} no encontrado.\")\n",
        "\n",
        "    def consultar_repuesto(self, nombre):\n",
        "        if nombre in self.inventario:\n",
        "            repuesto = self.inventario[nombre]\n",
        "            print(f\"{nombre}: {repuesto['cantidad']} unidades a ${repuesto['precio']} cada uno.\")\n",
        "        else:\n",
        "            print(f\"Repuesto {nombre} no encontrado.\")\n",
        "\n",
        "    def realizar_compra(self, nombre, cantidad):\n",
        "        if nombre in self.inventario:\n",
        "            repuesto = self.inventario[nombre]\n",
        "            if repuesto['cantidad'] < cantidad:\n",
        "                print(f\"Cantidad insuficiente. Solo hay {repuesto['cantidad']} unidades disponibles.\")\n",
        "            else:\n",
        "                repuesto['cantidad'] -= cantidad\n",
        "                print(f\"Compra realizada: {cantidad} unidades de {nombre}.\")\n",
        "                if repuesto['cantidad'] < 10:  # Si hay menos de 10 unidades, se realiza una compra de reposición\n",
        "                    print(f\"Advertencia: El inventario de {nombre} está bajo. Se recomienda realizar una compra.\")\n",
        "        else:\n",
        "            print(f\"Repuesto {nombre} no encontrado.\")\n",
        "\n",
        "    def mostrar_inventario(self):\n",
        "        if self.inventario:\n",
        "            print(\"Inventario de Repuestos:\")\n",
        "            for nombre, datos in self.inventario.items():\n",
        "                print(f\"{nombre}: {datos['cantidad']} unidades a ${datos['precio']} cada uno.\")\n",
        "        else:\n",
        "            print(\"El inventario está vacío.\")\n",
        "\n",
        "def menu():\n",
        "    inventario = InventarioRepuestos()\n",
        "\n",
        "    while True:\n",
        "        print(\"\\nMenú de Gestión de Inventario\")\n",
        "        print(\"1. Agregar Repuesto\")\n",
        "        print(\"2. Eliminar Repuesto\")\n",
        "        print(\"3. Consultar Repuesto\")\n",
        "        print(\"4. Realizar Compra\")\n",
        "        print(\"5. Mostrar Inventario\")\n",
        "        print(\"6. Salir\")\n",
        "\n",
        "        opcion = input(\"Elija una opción: \")\n",
        "\n",
        "        if opcion == \"1\":\n",
        "            nombre = input(\"Nombre del repuesto: \")\n",
        "            cantidad = int(input(\"Cantidad a agregar: \"))\n",
        "            precio = float(input(\"Precio del repuesto: \"))\n",
        "            inventario.agregar_repuesto(nombre, cantidad, precio)\n",
        "\n",
        "        elif opcion == \"2\":\n",
        "            nombre = input(\"Nombre del repuesto a eliminar: \")\n",
        "            inventario.eliminar_repuesto(nombre)\n",
        "\n",
        "        elif opcion == \"3\":\n",
        "            nombre = input(\"Nombre del repuesto a consultar: \")\n",
        "            inventario.consultar_repuesto(nombre)\n",
        "\n",
        "        elif opcion == \"4\":\n",
        "            nombre = input(\"Nombre del repuesto para comprar: \")\n",
        "            cantidad = int(input(\"Cantidad a comprar: \"))\n",
        "            inventario.realizar_compra(nombre, cantidad)\n",
        "\n",
        "        elif opcion == \"5\":\n",
        "            inventario.mostrar_inventario()\n",
        "\n",
        "        elif opcion == \"6\":\n",
        "            print(\"Saliendo del programa...\")\n",
        "            break\n",
        "\n",
        "        else:\n",
        "            print(\"Opción no válida. Intente nuevamente.\")\n",
        "\n",
        "# Ejecutar el menú\n",
        "menu()\n"
      ],
      "metadata": {
        "colab": {
          "base_uri": "https://localhost:8080/"
        },
        "id": "lrxgV0Cne6hF",
        "outputId": "f7fa5e08-6301-4d07-d8a1-3849f3d23f44"
      },
      "execution_count": 5,
      "outputs": [
        {
          "output_type": "stream",
          "name": "stdout",
          "text": [
            "\n",
            "Menú de Gestión de Inventario\n",
            "1. Agregar Repuesto\n",
            "2. Eliminar Repuesto\n",
            "3. Consultar Repuesto\n",
            "4. Realizar Compra\n",
            "5. Mostrar Inventario\n",
            "6. Salir\n",
            "Elija una opción: 1\n",
            "Nombre del repuesto: llanta\n",
            "Cantidad a agregar: 20\n",
            "Precio del repuesto: 200\n",
            "Repuesto agregado: llanta - 20 unidades a $200.0 cada uno.\n",
            "\n",
            "Menú de Gestión de Inventario\n",
            "1. Agregar Repuesto\n",
            "2. Eliminar Repuesto\n",
            "3. Consultar Repuesto\n",
            "4. Realizar Compra\n",
            "5. Mostrar Inventario\n",
            "6. Salir\n",
            "Elija una opción: 6\n",
            "Saliendo del programa...\n"
          ]
        }
      ]
    },
    {
      "cell_type": "markdown",
      "source": [
        " 2; Una empresa de servicios a terceros ofrece proyectos de consultoría y debe llevar el control de horas trabajadas por sus empleados en diferentes proyectos. Crea un programa que...\n",
        "  calcule las horas totales trabajadas por cada empleado en varios proyectos y su costo total en función de la tarifa por hora."
      ],
      "metadata": {
        "id": "L8DyPj3wfPhd"
      }
    },
    {
      "cell_type": "code",
      "source": [
        "class ControlHoras:\n",
        "    def __init__(self):\n",
        "        self.empleados = {}\n",
        "        self.proyectos = {}\n",
        "\n",
        "    def agregar_empleado(self, nombre, tarifa_por_hora):\n",
        "        if nombre in self.empleados:\n",
        "            print(f\"El empleado {nombre} ya está registrado.\")\n",
        "        else:\n",
        "            self.empleados[nombre] = {'tarifa_por_hora': tarifa_por_hora, 'horas': {}}\n",
        "            print(f\"Empleado {nombre} agregado con tarifa de ${tarifa_por_hora} por hora.\")\n",
        "\n",
        "    def agregar_proyecto(self, nombre_proyecto):\n",
        "        if nombre_proyecto in self.proyectos:\n",
        "            print(f\"El proyecto {nombre_proyecto} ya está registrado.\")\n",
        "        else:\n",
        "            self.proyectos[nombre_proyecto] = []\n",
        "            print(f\"Proyecto {nombre_proyecto} agregado.\")\n",
        "\n",
        "    def registrar_horas(self, nombre_empleado, nombre_proyecto, horas):\n",
        "        if nombre_empleado not in self.empleados:\n",
        "            print(f\"Empleado {nombre_empleado} no encontrado.\")\n",
        "            return\n",
        "\n",
        "        if nombre_proyecto not in self.proyectos:\n",
        "            print(f\"Proyecto {nombre_proyecto} no encontrado.\")\n",
        "            return\n",
        "\n",
        "        if nombre_proyecto not in self.empleados[nombre_empleado]['horas']:\n",
        "            self.empleados[nombre_empleado]['horas'][nombre_proyecto] = 0\n",
        "\n",
        "        self.empleados[nombre_empleado]['horas'][nombre_proyecto] += horas\n",
        "        print(f\"Registro de {horas} horas para el empleado {nombre_empleado} en el proyecto {nombre_proyecto}.\")\n",
        "\n",
        "    def calcular_total_horas(self, nombre_empleado):\n",
        "        if nombre_empleado not in self.empleados:\n",
        "            print(f\"Empleado {nombre_empleado} no encontrado.\")\n",
        "            return\n",
        "\n",
        "        total_horas = sum(self.empleados[nombre_empleado]['horas'].values())\n",
        "        print(f\"Total de horas trabajadas por {nombre_empleado}: {total_horas} horas.\")\n",
        "        return total_horas\n",
        "\n",
        "    def calcular_costo_total(self, nombre_empleado):\n",
        "        if nombre_empleado not in self.empleados:\n",
        "            print(f\"Empleado {nombre_empleado} no encontrado.\")\n",
        "            return\n",
        "\n",
        "        total_horas = self.calcular_total_horas(nombre_empleado)\n",
        "        tarifa_por_hora = self.empleados[nombre_empleado]['tarifa_por_hora']\n",
        "        costo_total = total_horas * tarifa_por_hora\n",
        "        print(f\"Costo total para {nombre_empleado}: ${costo_total:.2f}.\")\n",
        "        return costo_total\n",
        "\n",
        "    def mostrar_informacion_empleado(self, nombre_empleado):\n",
        "        if nombre_empleado not in self.empleados:\n",
        "            print(f\"Empleado {nombre_empleado} no encontrado.\")\n",
        "            return\n",
        "\n",
        "        tarifa_por_hora = self.empleados[nombre_empleado]['tarifa_por_hora']\n",
        "        horas_proyectos = self.empleados[nombre_empleado]['horas']\n",
        "        print(f\"Empleado: {nombre_empleado}\")\n",
        "        print(f\"Tarifa por hora: ${tarifa_por_hora}\")\n",
        "        for proyecto, horas in horas_proyectos.items():\n",
        "            print(f\"Proyecto: {proyecto} - Horas: {horas}\")\n",
        "\n",
        "def menu():\n",
        "    control_horas = ControlHoras()\n",
        "\n",
        "    while True:\n",
        "        print(\"\\nMenú de Control de Horas\")\n",
        "        print(\"1. Agregar Empleado\")\n",
        "        print(\"2. Agregar Proyecto\")\n",
        "        print(\"3. Registrar Horas Trabajadas\")\n",
        "        print(\"4. Calcular Total de Horas\")\n",
        "        print(\"5. Calcular Costo Total\")\n",
        "        print(\"6. Mostrar Información de Empleado\")\n",
        "        print(\"7. Salir\")\n",
        "\n",
        "        opcion = input(\"Elija una opción: \")\n",
        "\n",
        "        if opcion == \"1\":\n",
        "            nombre_empleado = input(\"Nombre del empleado: \")\n",
        "            tarifa_por_hora = float(input(\"Tarifa por hora: \"))\n",
        "            control_horas.agregar_empleado(nombre_empleado, tarifa_por_hora)\n",
        "\n",
        "        elif opcion == \"2\":\n",
        "            nombre_proyecto = input(\"Nombre del proyecto: \")\n",
        "            control_horas.agregar_proyecto(nombre_proyecto)\n",
        "\n",
        "        elif opcion == \"3\":\n",
        "            nombre_empleado = input(\"Nombre del empleado: \")\n",
        "            nombre_proyecto = input(\"Nombre del proyecto: \")\n",
        "            horas = float(input(\"Horas trabajadas: \"))\n",
        "            control_horas.registrar_horas(nombre_empleado, nombre_proyecto, horas)\n",
        "\n",
        "        elif opcion == \"4\":\n",
        "            nombre_empleado = input(\"Nombre del empleado: \")\n",
        "            control_horas.calcular_total_horas(nombre_empleado)\n",
        "\n",
        "        elif opcion == \"5\":\n",
        "            nombre_empleado = input(\"Nombre del empleado: \")\n",
        "            control_horas.calcular_costo_total(nombre_empleado)\n",
        "\n",
        "        elif opcion == \"6\":\n",
        "            nombre_empleado = input(\"Nombre del empleado: \")\n",
        "            control_horas.mostrar_informacion_empleado(nombre_empleado)\n",
        "\n",
        "        elif opcion == \"7\":\n",
        "            print(\"Saliendo del programa...\")\n",
        "            break\n",
        "\n",
        "        else:\n",
        "            print(\"Opción no válida. Intente nuevamente.\")\n",
        "\n",
        "# Ejecutar el menú\n",
        "menu()\n"
      ],
      "metadata": {
        "colab": {
          "base_uri": "https://localhost:8080/"
        },
        "id": "W-8z9I4Pfl6T",
        "outputId": "6598c202-b9c5-44b5-dbb4-f4bdeb9bb20f"
      },
      "execution_count": 8,
      "outputs": [
        {
          "output_type": "stream",
          "name": "stdout",
          "text": [
            "\n",
            "Menú de Control de Horas\n",
            "1. Agregar Empleado\n",
            "2. Agregar Proyecto\n",
            "3. Registrar Horas Trabajadas\n",
            "4. Calcular Total de Horas\n",
            "5. Calcular Costo Total\n",
            "6. Mostrar Información de Empleado\n",
            "7. Salir\n",
            "Elija una opción: 6\n",
            "Nombre del empleado: Jezabel\n",
            "Empleado Jezabel no encontrado.\n",
            "\n",
            "Menú de Control de Horas\n",
            "1. Agregar Empleado\n",
            "2. Agregar Proyecto\n",
            "3. Registrar Horas Trabajadas\n",
            "4. Calcular Total de Horas\n",
            "5. Calcular Costo Total\n",
            "6. Mostrar Información de Empleado\n",
            "7. Salir\n",
            "Elija una opción: 1\n",
            "Nombre del empleado: Jezabel\n",
            "Tarifa por hora: 800\n",
            "Empleado Jezabel agregado con tarifa de $800.0 por hora.\n",
            "\n",
            "Menú de Control de Horas\n",
            "1. Agregar Empleado\n",
            "2. Agregar Proyecto\n",
            "3. Registrar Horas Trabajadas\n",
            "4. Calcular Total de Horas\n",
            "5. Calcular Costo Total\n",
            "6. Mostrar Información de Empleado\n",
            "7. Salir\n",
            "Elija una opción: 2\n",
            "Nombre del proyecto: ConsultoriaA \n",
            "Proyecto ConsultoriaA  agregado.\n",
            "\n",
            "Menú de Control de Horas\n",
            "1. Agregar Empleado\n",
            "2. Agregar Proyecto\n",
            "3. Registrar Horas Trabajadas\n",
            "4. Calcular Total de Horas\n",
            "5. Calcular Costo Total\n",
            "6. Mostrar Información de Empleado\n",
            "7. Salir\n",
            "Elija una opción: 3\n",
            "Nombre del empleado: Jezabel\n",
            "Nombre del proyecto: ConsultoriaA \n",
            "Horas trabajadas: 50\n",
            "Registro de 50.0 horas para el empleado Jezabel en el proyecto ConsultoriaA .\n",
            "\n",
            "Menú de Control de Horas\n",
            "1. Agregar Empleado\n",
            "2. Agregar Proyecto\n",
            "3. Registrar Horas Trabajadas\n",
            "4. Calcular Total de Horas\n",
            "5. Calcular Costo Total\n",
            "6. Mostrar Información de Empleado\n",
            "7. Salir\n",
            "Elija una opción: 4\n",
            "Nombre del empleado: Jezabel\n",
            "Total de horas trabajadas por Jezabel: 50.0 horas.\n",
            "\n",
            "Menú de Control de Horas\n",
            "1. Agregar Empleado\n",
            "2. Agregar Proyecto\n",
            "3. Registrar Horas Trabajadas\n",
            "4. Calcular Total de Horas\n",
            "5. Calcular Costo Total\n",
            "6. Mostrar Información de Empleado\n",
            "7. Salir\n",
            "Elija una opción: 5\n",
            "Nombre del empleado: Jezabel\n",
            "Total de horas trabajadas por Jezabel: 50.0 horas.\n",
            "Costo total para Jezabel: $40000.00.\n",
            "\n",
            "Menú de Control de Horas\n",
            "1. Agregar Empleado\n",
            "2. Agregar Proyecto\n",
            "3. Registrar Horas Trabajadas\n",
            "4. Calcular Total de Horas\n",
            "5. Calcular Costo Total\n",
            "6. Mostrar Información de Empleado\n",
            "7. Salir\n",
            "Elija una opción: 6\n",
            "Nombre del empleado: Jezabel\n",
            "Empleado: Jezabel\n",
            "Tarifa por hora: $800.0\n",
            "Proyecto: ConsultoriaA  - Horas: 50.0\n",
            "\n",
            "Menú de Control de Horas\n",
            "1. Agregar Empleado\n",
            "2. Agregar Proyecto\n",
            "3. Registrar Horas Trabajadas\n",
            "4. Calcular Total de Horas\n",
            "5. Calcular Costo Total\n",
            "6. Mostrar Información de Empleado\n",
            "7. Salir\n",
            "Elija una opción: 7\n",
            "Saliendo del programa...\n"
          ]
        }
      ]
    }
  ]
}