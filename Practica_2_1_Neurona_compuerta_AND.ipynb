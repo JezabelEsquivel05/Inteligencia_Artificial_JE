{
  "nbformat": 4,
  "nbformat_minor": 0,
  "metadata": {
    "colab": {
      "provenance": [],
      "authorship_tag": "ABX9TyOBVGbzbbS4SAz6QxPTNeWy",
      "include_colab_link": true
    },
    "kernelspec": {
      "name": "python3",
      "display_name": "Python 3"
    },
    "language_info": {
      "name": "python"
    }
  },
  "cells": [
    {
      "cell_type": "markdown",
      "metadata": {
        "id": "view-in-github",
        "colab_type": "text"
      },
      "source": [
        "<a href=\"https://colab.research.google.com/github/JezabelEsquivel05/Inteligencia_Artificial_JE/blob/main/Practica_2_1_Neurona_compuerta_AND.ipynb\" target=\"_parent\"><img src=\"https://colab.research.google.com/assets/colab-badge.svg\" alt=\"Open In Colab\"/></a>"
      ]
    },
    {
      "cell_type": "markdown",
      "source": [
        "Practica 2.1 - Neurona compuerta AND\n",
        "\n"
      ],
      "metadata": {
        "id": "HGQuBUvBJOuJ"
      }
    },
    {
      "cell_type": "markdown",
      "source": [
        "00 -> 0\n",
        "\n",
        "01 -> 0\n",
        "\n",
        "10 -> 0\n",
        "\n",
        "11 -> 1"
      ],
      "metadata": {
        "id": "MFu5WZWTJmwn"
      }
    },
    {
      "cell_type": "code",
      "execution_count": 3,
      "metadata": {
        "colab": {
          "base_uri": "https://localhost:8080/"
        },
        "id": "7R04RIz3JH-Q",
        "outputId": "3dd4f8e6-f8d8-457a-d714-2bdada6bbb05"
      },
      "outputs": [
        {
          "output_type": "stream",
          "name": "stdout",
          "text": [
            "-1 = -1 + 0 * 1\n",
            "-1 = -1 + 0 * 1\n",
            "-1\n",
            "0 AND 0 = 0\n"
          ]
        }
      ],
      "source": [
        "x=[0,0] #Peso\n",
        "w=[1,1] #Peso\n",
        "s=-1 #Numero fijo\n",
        "for i in range(0,2):\n",
        "\n",
        "  print((s+x[i]*w[i]),\"=\",s,\"+\", x[i], \"*\", w[i])#tester\n",
        "  s=s+x[i]*w[i]\n",
        "print(s)\n",
        "\n",
        "y=1 if s>0 else 0\n",
        "print(x[0],'AND',x[1],'=',y)"
      ]
    },
    {
      "cell_type": "code",
      "source": [
        "x=[0,1] #Peso\n",
        "w=[1,1] #Peso\n",
        "s=-1 #Numero fijo\n",
        "for i in range(0,2):\n",
        "\n",
        "  print((s+x[i]*w[i]),\"=\",s,\"+\", x[i], \"*\", w[i])#tester\n",
        "  s=s+x[i]*w[i]\n",
        "print(s)\n",
        "\n",
        "y=1 if s>0 else 0\n",
        "print(x[0],'AND',x[1],'=',y)"
      ],
      "metadata": {
        "colab": {
          "base_uri": "https://localhost:8080/"
        },
        "id": "lpRodXyKKJMf",
        "outputId": "65412606-24fe-4ce4-b710-29dc8cc1aa00"
      },
      "execution_count": 4,
      "outputs": [
        {
          "output_type": "stream",
          "name": "stdout",
          "text": [
            "-1 = -1 + 0 * 1\n",
            "0 = -1 + 1 * 1\n",
            "0\n",
            "0 AND 1 = 0\n"
          ]
        }
      ]
    },
    {
      "cell_type": "code",
      "source": [
        "x=[1,0] #Peso\n",
        "w=[1,1] #Peso\n",
        "s=-1 #Numero fijo\n",
        "for i in range(0,2):\n",
        "\n",
        "  print((s+x[i]*w[i]),\"=\",s,\"+\", x[i], \"*\", w[i])#tester\n",
        "  s=s+x[i]*w[i]\n",
        "print(s)\n",
        "\n",
        "y=1 if s>0 else 0\n",
        "print(x[0],'AND',x[1],'=',y)"
      ],
      "metadata": {
        "colab": {
          "base_uri": "https://localhost:8080/"
        },
        "id": "T6aDjY05KQbF",
        "outputId": "4af3c4fb-32c5-40a5-a5bd-da6b4ccbbed2"
      },
      "execution_count": 5,
      "outputs": [
        {
          "output_type": "stream",
          "name": "stdout",
          "text": [
            "0 = -1 + 1 * 1\n",
            "0 = 0 + 0 * 1\n",
            "0\n",
            "1 AND 0 = 0\n"
          ]
        }
      ]
    },
    {
      "cell_type": "code",
      "source": [
        "x=[1,1] #Peso\n",
        "w=[1,1] #Peso\n",
        "s=-1 #Numero fijo\n",
        "for i in range(0,2):\n",
        "\n",
        "  print((s+x[i]*w[i]),\"=\",s,\"+\", x[i], \"*\", w[i])#tester\n",
        "  s=s+x[i]*w[i]\n",
        "print(s)\n",
        "\n",
        "y=1 if s>0 else 0\n",
        "print(x[0],'AND',x[1],'=',y)"
      ],
      "metadata": {
        "colab": {
          "base_uri": "https://localhost:8080/"
        },
        "id": "GOANahpUKU2Q",
        "outputId": "5523db7c-7ff3-4bc1-b7dd-cb9efa743625"
      },
      "execution_count": 6,
      "outputs": [
        {
          "output_type": "stream",
          "name": "stdout",
          "text": [
            "0 = -1 + 1 * 1\n",
            "1 = 0 + 1 * 1\n",
            "1\n",
            "1 AND 1 = 1\n"
          ]
        }
      ]
    }
  ]
}